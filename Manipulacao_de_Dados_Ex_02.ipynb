{
  "nbformat": 4,
  "nbformat_minor": 0,
  "metadata": {
    "anaconda-cloud": {},
    "colab": {
      "name": "Exercicios_unidade_5_Manipulacao_de_Dados_Parte_02.ipynb",
      "provenance": []
    },
    "kernelspec": {
      "display_name": "Python 3",
      "language": "python",
      "name": "python3"
    },
    "language_info": {
      "codemirror_mode": {
        "name": "ipython",
        "version": 3
      },
      "file_extension": ".py",
      "mimetype": "text/x-python",
      "name": "python",
      "nbconvert_exporter": "python",
      "pygments_lexer": "ipython3",
      "version": "3.7.6"
    }
  },
  "cells": [
    {
      "cell_type": "markdown",
      "metadata": {
        "id": "mG98ajLLNIjz"
      },
      "source": [
        "![](https://i.imgur.com/JsMvGnP.png)"
      ]
    },
    {
      "cell_type": "markdown",
      "metadata": {
        "id": "7Ch5KPRpui-Q"
      },
      "source": [
        "\n",
        "## Exercícios de manipulação de dados - Parte 2"
      ]
    },
    {
      "cell_type": "markdown",
      "metadata": {
        "id": "IscqV7Obui-R"
      },
      "source": [
        "Neste Jupyter notebook você irá resolver uma exercícios utilizando a linguagem Python e a biblioteca Pandas.\n",
        "\n",
        "Todos os datasets utilizados nos exercícios estão salvos na pasta **datasets**.\n",
        "\n",
        "Todo o seu código deve ser executado neste Jupyter Notebook. Por fim, se desejar, revise as respostas com o seu mentor."
      ]
    },
    {
      "cell_type": "markdown",
      "metadata": {
        "id": "Trmht8Dfui-S"
      },
      "source": [
        "### Tarefa 1. Importe o dataset e salve os dados em um dataframe\n",
        "\n",
        "Os dados estão salvos no arquivo ***datasets/US_Crime_Rates_1960_2014.csv***.\n",
        "\n",
        "Este dataset contém dados de crimes ocorridos nos Estados Unidos no período de 1960 até 2014.\n",
        "\n",
        "Salve os dados em uma variável de nome *crime*."
      ]
    },
    {
      "cell_type": "code",
      "metadata": {
        "id": "LN4JDdSjui-T"
      },
      "source": [
        "import pandas as pd "
      ],
      "execution_count": 1,
      "outputs": []
    },
    {
      "cell_type": "code",
      "metadata": {
        "id": "aavpfk4csg_4"
      },
      "source": [
        "crimes = pd.read_csv('https://raw.githubusercontent.com/robertferro/data-manipulation-exercises/master/datasets/US_Crime_Rates_1960_2014.csv' , sep = ',')"
      ],
      "execution_count": 2,
      "outputs": []
    },
    {
      "cell_type": "code",
      "metadata": {
        "id": "EEQoykWnshEY",
        "outputId": "385ba0b9-c520-4cad-ada0-c69e787871e0",
        "colab": {
          "base_uri": "https://localhost:8080/",
          "height": 204
        }
      },
      "source": [
        "crimes.head()"
      ],
      "execution_count": 3,
      "outputs": [
        {
          "output_type": "execute_result",
          "data": {
            "text/html": [
              "<div>\n",
              "<style scoped>\n",
              "    .dataframe tbody tr th:only-of-type {\n",
              "        vertical-align: middle;\n",
              "    }\n",
              "\n",
              "    .dataframe tbody tr th {\n",
              "        vertical-align: top;\n",
              "    }\n",
              "\n",
              "    .dataframe thead th {\n",
              "        text-align: right;\n",
              "    }\n",
              "</style>\n",
              "<table border=\"1\" class=\"dataframe\">\n",
              "  <thead>\n",
              "    <tr style=\"text-align: right;\">\n",
              "      <th></th>\n",
              "      <th>Year</th>\n",
              "      <th>Population</th>\n",
              "      <th>Total</th>\n",
              "      <th>Violent</th>\n",
              "      <th>Property</th>\n",
              "      <th>Murder</th>\n",
              "      <th>Forcible_Rape</th>\n",
              "      <th>Robbery</th>\n",
              "      <th>Aggravated_assault</th>\n",
              "      <th>Burglary</th>\n",
              "      <th>Larceny_Theft</th>\n",
              "      <th>Vehicle_Theft</th>\n",
              "    </tr>\n",
              "  </thead>\n",
              "  <tbody>\n",
              "    <tr>\n",
              "      <th>0</th>\n",
              "      <td>1960</td>\n",
              "      <td>179323175</td>\n",
              "      <td>3384200</td>\n",
              "      <td>288460</td>\n",
              "      <td>3095700</td>\n",
              "      <td>9110</td>\n",
              "      <td>17190</td>\n",
              "      <td>107840</td>\n",
              "      <td>154320</td>\n",
              "      <td>912100</td>\n",
              "      <td>1855400</td>\n",
              "      <td>328200</td>\n",
              "    </tr>\n",
              "    <tr>\n",
              "      <th>1</th>\n",
              "      <td>1961</td>\n",
              "      <td>182992000</td>\n",
              "      <td>3488000</td>\n",
              "      <td>289390</td>\n",
              "      <td>3198600</td>\n",
              "      <td>8740</td>\n",
              "      <td>17220</td>\n",
              "      <td>106670</td>\n",
              "      <td>156760</td>\n",
              "      <td>949600</td>\n",
              "      <td>1913000</td>\n",
              "      <td>336000</td>\n",
              "    </tr>\n",
              "    <tr>\n",
              "      <th>2</th>\n",
              "      <td>1962</td>\n",
              "      <td>185771000</td>\n",
              "      <td>3752200</td>\n",
              "      <td>301510</td>\n",
              "      <td>3450700</td>\n",
              "      <td>8530</td>\n",
              "      <td>17550</td>\n",
              "      <td>110860</td>\n",
              "      <td>164570</td>\n",
              "      <td>994300</td>\n",
              "      <td>2089600</td>\n",
              "      <td>366800</td>\n",
              "    </tr>\n",
              "    <tr>\n",
              "      <th>3</th>\n",
              "      <td>1963</td>\n",
              "      <td>188483000</td>\n",
              "      <td>4109500</td>\n",
              "      <td>316970</td>\n",
              "      <td>3792500</td>\n",
              "      <td>8640</td>\n",
              "      <td>17650</td>\n",
              "      <td>116470</td>\n",
              "      <td>174210</td>\n",
              "      <td>1086400</td>\n",
              "      <td>2297800</td>\n",
              "      <td>408300</td>\n",
              "    </tr>\n",
              "    <tr>\n",
              "      <th>4</th>\n",
              "      <td>1964</td>\n",
              "      <td>191141000</td>\n",
              "      <td>4564600</td>\n",
              "      <td>364220</td>\n",
              "      <td>4200400</td>\n",
              "      <td>9360</td>\n",
              "      <td>21420</td>\n",
              "      <td>130390</td>\n",
              "      <td>203050</td>\n",
              "      <td>1213200</td>\n",
              "      <td>2514400</td>\n",
              "      <td>472800</td>\n",
              "    </tr>\n",
              "  </tbody>\n",
              "</table>\n",
              "</div>"
            ],
            "text/plain": [
              "   Year  Population    Total  ...  Burglary  Larceny_Theft  Vehicle_Theft\n",
              "0  1960   179323175  3384200  ...    912100        1855400         328200\n",
              "1  1961   182992000  3488000  ...    949600        1913000         336000\n",
              "2  1962   185771000  3752200  ...    994300        2089600         366800\n",
              "3  1963   188483000  4109500  ...   1086400        2297800         408300\n",
              "4  1964   191141000  4564600  ...   1213200        2514400         472800\n",
              "\n",
              "[5 rows x 12 columns]"
            ]
          },
          "metadata": {
            "tags": []
          },
          "execution_count": 3
        }
      ]
    },
    {
      "cell_type": "markdown",
      "metadata": {
        "id": "8F6IEdZsui-X"
      },
      "source": [
        "### Tarefa 2. Qual o tipo de dados em cada coluna?"
      ]
    },
    {
      "cell_type": "code",
      "metadata": {
        "id": "4HsUYWJxsxGf",
        "outputId": "a85fc303-a391-442e-a0fa-4d0bcc2fcb0d",
        "colab": {
          "base_uri": "https://localhost:8080/"
        }
      },
      "source": [
        "crimes.info()"
      ],
      "execution_count": 6,
      "outputs": [
        {
          "output_type": "stream",
          "text": [
            "<class 'pandas.core.frame.DataFrame'>\n",
            "RangeIndex: 55 entries, 0 to 54\n",
            "Data columns (total 12 columns):\n",
            " #   Column              Non-Null Count  Dtype\n",
            "---  ------              --------------  -----\n",
            " 0   Year                55 non-null     int64\n",
            " 1   Population          55 non-null     int64\n",
            " 2   Total               55 non-null     int64\n",
            " 3   Violent             55 non-null     int64\n",
            " 4   Property            55 non-null     int64\n",
            " 5   Murder              55 non-null     int64\n",
            " 6   Forcible_Rape       55 non-null     int64\n",
            " 7   Robbery             55 non-null     int64\n",
            " 8   Aggravated_assault  55 non-null     int64\n",
            " 9   Burglary            55 non-null     int64\n",
            " 10  Larceny_Theft       55 non-null     int64\n",
            " 11  Vehicle_Theft       55 non-null     int64\n",
            "dtypes: int64(12)\n",
            "memory usage: 5.3 KB\n"
          ],
          "name": "stdout"
        }
      ]
    },
    {
      "cell_type": "markdown",
      "metadata": {
        "id": "ZnhPRMhrui-c"
      },
      "source": [
        "### Tarefa 3. Converta o tipo de dado da coluna Year para o tipo datetime\n",
        "\n",
        "*Dica: procure na documentação da biblioteca como fazer tal conversão*"
      ]
    },
    {
      "cell_type": "code",
      "metadata": {
        "id": "S9YO7d5N0aty",
        "outputId": "dcf9e631-f327-49a8-ef98-3b21926472f9",
        "colab": {
          "base_uri": "https://localhost:8080/"
        }
      },
      "source": [
        "type(crimes.Year)"
      ],
      "execution_count": 12,
      "outputs": [
        {
          "output_type": "execute_result",
          "data": {
            "text/plain": [
              "pandas.core.series.Series"
            ]
          },
          "metadata": {
            "tags": []
          },
          "execution_count": 12
        }
      ]
    },
    {
      "cell_type": "code",
      "metadata": {
        "colab": {
          "base_uri": "https://localhost:8080/",
          "height": 163
        },
        "id": "HAIM8iB3ui-d",
        "outputId": "8b5ea0c3-19eb-4524-f014-9b16d3b0bb1b"
      },
      "source": [
        "crimes['year'] = pd.to_datetime(crimes['Year'], day_first = False)\n"
      ],
      "execution_count": 19,
      "outputs": [
        {
          "output_type": "error",
          "ename": "TypeError",
          "evalue": "ignored",
          "traceback": [
            "\u001b[0;31m---------------------------------------------------------------------------\u001b[0m",
            "\u001b[0;31mTypeError\u001b[0m                                 Traceback (most recent call last)",
            "\u001b[0;32m<ipython-input-19-86225b84725e>\u001b[0m in \u001b[0;36m<module>\u001b[0;34m()\u001b[0m\n\u001b[0;32m----> 1\u001b[0;31m \u001b[0mcrimes\u001b[0m\u001b[0;34m[\u001b[0m\u001b[0;34m'year'\u001b[0m\u001b[0;34m]\u001b[0m \u001b[0;34m=\u001b[0m \u001b[0mpd\u001b[0m\u001b[0;34m.\u001b[0m\u001b[0mto_datetime\u001b[0m\u001b[0;34m(\u001b[0m\u001b[0mcrimes\u001b[0m\u001b[0;34m[\u001b[0m\u001b[0;34m'Year'\u001b[0m\u001b[0;34m]\u001b[0m\u001b[0;34m,\u001b[0m \u001b[0mday_first\u001b[0m \u001b[0;34m=\u001b[0m \u001b[0;32mFalse\u001b[0m\u001b[0;34m)\u001b[0m\u001b[0;34m\u001b[0m\u001b[0;34m\u001b[0m\u001b[0m\n\u001b[0m",
            "\u001b[0;31mTypeError\u001b[0m: to_datetime() got an unexpected keyword argument 'day_first'"
          ]
        }
      ]
    },
    {
      "cell_type": "code",
      "metadata": {
        "id": "RgsY-dgZvM1S",
        "outputId": "92aa35e6-eb78-4f58-8226-88307fbebbc3",
        "colab": {
          "base_uri": "https://localhost:8080/",
          "height": 204
        }
      },
      "source": [
        "crimes.head()"
      ],
      "execution_count": 16,
      "outputs": [
        {
          "output_type": "execute_result",
          "data": {
            "text/html": [
              "<div>\n",
              "<style scoped>\n",
              "    .dataframe tbody tr th:only-of-type {\n",
              "        vertical-align: middle;\n",
              "    }\n",
              "\n",
              "    .dataframe tbody tr th {\n",
              "        vertical-align: top;\n",
              "    }\n",
              "\n",
              "    .dataframe thead th {\n",
              "        text-align: right;\n",
              "    }\n",
              "</style>\n",
              "<table border=\"1\" class=\"dataframe\">\n",
              "  <thead>\n",
              "    <tr style=\"text-align: right;\">\n",
              "      <th></th>\n",
              "      <th>Year</th>\n",
              "      <th>Population</th>\n",
              "      <th>Total</th>\n",
              "      <th>Violent</th>\n",
              "      <th>Property</th>\n",
              "      <th>Murder</th>\n",
              "      <th>Forcible_Rape</th>\n",
              "      <th>Robbery</th>\n",
              "      <th>Aggravated_assault</th>\n",
              "      <th>Burglary</th>\n",
              "      <th>Larceny_Theft</th>\n",
              "      <th>Vehicle_Theft</th>\n",
              "      <th>year</th>\n",
              "    </tr>\n",
              "  </thead>\n",
              "  <tbody>\n",
              "    <tr>\n",
              "      <th>0</th>\n",
              "      <td>1960</td>\n",
              "      <td>179323175</td>\n",
              "      <td>3384200</td>\n",
              "      <td>288460</td>\n",
              "      <td>3095700</td>\n",
              "      <td>9110</td>\n",
              "      <td>17190</td>\n",
              "      <td>107840</td>\n",
              "      <td>154320</td>\n",
              "      <td>912100</td>\n",
              "      <td>1855400</td>\n",
              "      <td>328200</td>\n",
              "      <td>1970-01-01 00:00:00.000001960</td>\n",
              "    </tr>\n",
              "    <tr>\n",
              "      <th>1</th>\n",
              "      <td>1961</td>\n",
              "      <td>182992000</td>\n",
              "      <td>3488000</td>\n",
              "      <td>289390</td>\n",
              "      <td>3198600</td>\n",
              "      <td>8740</td>\n",
              "      <td>17220</td>\n",
              "      <td>106670</td>\n",
              "      <td>156760</td>\n",
              "      <td>949600</td>\n",
              "      <td>1913000</td>\n",
              "      <td>336000</td>\n",
              "      <td>1970-01-01 00:00:00.000001961</td>\n",
              "    </tr>\n",
              "    <tr>\n",
              "      <th>2</th>\n",
              "      <td>1962</td>\n",
              "      <td>185771000</td>\n",
              "      <td>3752200</td>\n",
              "      <td>301510</td>\n",
              "      <td>3450700</td>\n",
              "      <td>8530</td>\n",
              "      <td>17550</td>\n",
              "      <td>110860</td>\n",
              "      <td>164570</td>\n",
              "      <td>994300</td>\n",
              "      <td>2089600</td>\n",
              "      <td>366800</td>\n",
              "      <td>1970-01-01 00:00:00.000001962</td>\n",
              "    </tr>\n",
              "    <tr>\n",
              "      <th>3</th>\n",
              "      <td>1963</td>\n",
              "      <td>188483000</td>\n",
              "      <td>4109500</td>\n",
              "      <td>316970</td>\n",
              "      <td>3792500</td>\n",
              "      <td>8640</td>\n",
              "      <td>17650</td>\n",
              "      <td>116470</td>\n",
              "      <td>174210</td>\n",
              "      <td>1086400</td>\n",
              "      <td>2297800</td>\n",
              "      <td>408300</td>\n",
              "      <td>1970-01-01 00:00:00.000001963</td>\n",
              "    </tr>\n",
              "    <tr>\n",
              "      <th>4</th>\n",
              "      <td>1964</td>\n",
              "      <td>191141000</td>\n",
              "      <td>4564600</td>\n",
              "      <td>364220</td>\n",
              "      <td>4200400</td>\n",
              "      <td>9360</td>\n",
              "      <td>21420</td>\n",
              "      <td>130390</td>\n",
              "      <td>203050</td>\n",
              "      <td>1213200</td>\n",
              "      <td>2514400</td>\n",
              "      <td>472800</td>\n",
              "      <td>1970-01-01 00:00:00.000001964</td>\n",
              "    </tr>\n",
              "  </tbody>\n",
              "</table>\n",
              "</div>"
            ],
            "text/plain": [
              "   Year  Population  ...  Vehicle_Theft                          year\n",
              "0  1960   179323175  ...         328200 1970-01-01 00:00:00.000001960\n",
              "1  1961   182992000  ...         336000 1970-01-01 00:00:00.000001961\n",
              "2  1962   185771000  ...         366800 1970-01-01 00:00:00.000001962\n",
              "3  1963   188483000  ...         408300 1970-01-01 00:00:00.000001963\n",
              "4  1964   191141000  ...         472800 1970-01-01 00:00:00.000001964\n",
              "\n",
              "[5 rows x 13 columns]"
            ]
          },
          "metadata": {
            "tags": []
          },
          "execution_count": 16
        }
      ]
    },
    {
      "cell_type": "code",
      "metadata": {
        "id": "FKULwMU0tobg",
        "outputId": "ec96e79a-42c8-4140-88d7-b301d334f30f",
        "colab": {
          "base_uri": "https://localhost:8080/"
        }
      },
      "source": [
        "crimes.info()"
      ],
      "execution_count": 15,
      "outputs": [
        {
          "output_type": "stream",
          "text": [
            "<class 'pandas.core.frame.DataFrame'>\n",
            "RangeIndex: 55 entries, 0 to 54\n",
            "Data columns (total 13 columns):\n",
            " #   Column              Non-Null Count  Dtype         \n",
            "---  ------              --------------  -----         \n",
            " 0   Year                55 non-null     datetime64[ns]\n",
            " 1   Population          55 non-null     int64         \n",
            " 2   Total               55 non-null     int64         \n",
            " 3   Violent             55 non-null     int64         \n",
            " 4   Property            55 non-null     int64         \n",
            " 5   Murder              55 non-null     int64         \n",
            " 6   Forcible_Rape       55 non-null     int64         \n",
            " 7   Robbery             55 non-null     int64         \n",
            " 8   Aggravated_assault  55 non-null     int64         \n",
            " 9   Burglary            55 non-null     int64         \n",
            " 10  Larceny_Theft       55 non-null     int64         \n",
            " 11  Vehicle_Theft       55 non-null     int64         \n",
            " 12  year                55 non-null     object        \n",
            "dtypes: datetime64[ns](1), int64(11), object(1)\n",
            "memory usage: 5.7+ KB\n"
          ],
          "name": "stdout"
        }
      ]
    },
    {
      "cell_type": "markdown",
      "metadata": {
        "id": "wUMLk49Wui-h"
      },
      "source": [
        "### Tarefa 4. Configure a coluna Year como index do DataFrame.\n",
        "\n",
        "*Dica: use a função set_index() do Pandas* "
      ]
    },
    {
      "cell_type": "code",
      "metadata": {
        "id": "6n-r6P4jui-i"
      },
      "source": [
        "# Seu código"
      ],
      "execution_count": null,
      "outputs": []
    },
    {
      "cell_type": "markdown",
      "metadata": {
        "id": "J-osqYpUui-l"
      },
      "source": [
        "### Tarefa 5. Remova a coluna Total do DataFrame."
      ]
    },
    {
      "cell_type": "code",
      "metadata": {
        "id": "td1aqCVrui-m"
      },
      "source": [
        "crimes = crimes.drop('Total', axis = 1)"
      ],
      "execution_count": 16,
      "outputs": []
    },
    {
      "cell_type": "code",
      "metadata": {
        "id": "4OukHB1hwJFy",
        "outputId": "e948be6f-bae0-4aab-9857-9d61e7c501b7",
        "colab": {
          "base_uri": "https://localhost:8080/",
          "height": 204
        }
      },
      "source": [
        "crimes.head()"
      ],
      "execution_count": 17,
      "outputs": [
        {
          "output_type": "execute_result",
          "data": {
            "text/html": [
              "<div>\n",
              "<style scoped>\n",
              "    .dataframe tbody tr th:only-of-type {\n",
              "        vertical-align: middle;\n",
              "    }\n",
              "\n",
              "    .dataframe tbody tr th {\n",
              "        vertical-align: top;\n",
              "    }\n",
              "\n",
              "    .dataframe thead th {\n",
              "        text-align: right;\n",
              "    }\n",
              "</style>\n",
              "<table border=\"1\" class=\"dataframe\">\n",
              "  <thead>\n",
              "    <tr style=\"text-align: right;\">\n",
              "      <th></th>\n",
              "      <th>Year</th>\n",
              "      <th>Population</th>\n",
              "      <th>Violent</th>\n",
              "      <th>Property</th>\n",
              "      <th>Murder</th>\n",
              "      <th>Forcible_Rape</th>\n",
              "      <th>Robbery</th>\n",
              "      <th>Aggravated_assault</th>\n",
              "      <th>Burglary</th>\n",
              "      <th>Larceny_Theft</th>\n",
              "      <th>Vehicle_Theft</th>\n",
              "      <th>year</th>\n",
              "    </tr>\n",
              "  </thead>\n",
              "  <tbody>\n",
              "    <tr>\n",
              "      <th>0</th>\n",
              "      <td>1970-01-01 00:00:00.000001960</td>\n",
              "      <td>179323175</td>\n",
              "      <td>288460</td>\n",
              "      <td>3095700</td>\n",
              "      <td>9110</td>\n",
              "      <td>17190</td>\n",
              "      <td>107840</td>\n",
              "      <td>154320</td>\n",
              "      <td>912100</td>\n",
              "      <td>1855400</td>\n",
              "      <td>328200</td>\n",
              "      <td>1970-01-01</td>\n",
              "    </tr>\n",
              "    <tr>\n",
              "      <th>1</th>\n",
              "      <td>1970-01-01 00:00:00.000001961</td>\n",
              "      <td>182992000</td>\n",
              "      <td>289390</td>\n",
              "      <td>3198600</td>\n",
              "      <td>8740</td>\n",
              "      <td>17220</td>\n",
              "      <td>106670</td>\n",
              "      <td>156760</td>\n",
              "      <td>949600</td>\n",
              "      <td>1913000</td>\n",
              "      <td>336000</td>\n",
              "      <td>1970-01-01</td>\n",
              "    </tr>\n",
              "    <tr>\n",
              "      <th>2</th>\n",
              "      <td>1970-01-01 00:00:00.000001962</td>\n",
              "      <td>185771000</td>\n",
              "      <td>301510</td>\n",
              "      <td>3450700</td>\n",
              "      <td>8530</td>\n",
              "      <td>17550</td>\n",
              "      <td>110860</td>\n",
              "      <td>164570</td>\n",
              "      <td>994300</td>\n",
              "      <td>2089600</td>\n",
              "      <td>366800</td>\n",
              "      <td>1970-01-01</td>\n",
              "    </tr>\n",
              "    <tr>\n",
              "      <th>3</th>\n",
              "      <td>1970-01-01 00:00:00.000001963</td>\n",
              "      <td>188483000</td>\n",
              "      <td>316970</td>\n",
              "      <td>3792500</td>\n",
              "      <td>8640</td>\n",
              "      <td>17650</td>\n",
              "      <td>116470</td>\n",
              "      <td>174210</td>\n",
              "      <td>1086400</td>\n",
              "      <td>2297800</td>\n",
              "      <td>408300</td>\n",
              "      <td>1970-01-01</td>\n",
              "    </tr>\n",
              "    <tr>\n",
              "      <th>4</th>\n",
              "      <td>1970-01-01 00:00:00.000001964</td>\n",
              "      <td>191141000</td>\n",
              "      <td>364220</td>\n",
              "      <td>4200400</td>\n",
              "      <td>9360</td>\n",
              "      <td>21420</td>\n",
              "      <td>130390</td>\n",
              "      <td>203050</td>\n",
              "      <td>1213200</td>\n",
              "      <td>2514400</td>\n",
              "      <td>472800</td>\n",
              "      <td>1970-01-01</td>\n",
              "    </tr>\n",
              "  </tbody>\n",
              "</table>\n",
              "</div>"
            ],
            "text/plain": [
              "                           Year  Population  ...  Vehicle_Theft        year\n",
              "0 1970-01-01 00:00:00.000001960   179323175  ...         328200  1970-01-01\n",
              "1 1970-01-01 00:00:00.000001961   182992000  ...         336000  1970-01-01\n",
              "2 1970-01-01 00:00:00.000001962   185771000  ...         366800  1970-01-01\n",
              "3 1970-01-01 00:00:00.000001963   188483000  ...         408300  1970-01-01\n",
              "4 1970-01-01 00:00:00.000001964   191141000  ...         472800  1970-01-01\n",
              "\n",
              "[5 rows x 12 columns]"
            ]
          },
          "metadata": {
            "tags": []
          },
          "execution_count": 17
        }
      ]
    },
    {
      "cell_type": "markdown",
      "metadata": {
        "id": "sNRpI3snDwZ7"
      },
      "source": [
        "### Tarefa 6. Encontre o número de roubos de carro do ano de 1978."
      ]
    },
    {
      "cell_type": "code",
      "metadata": {
        "id": "iCHYwMqLECpl"
      },
      "source": [
        "# Seu código"
      ],
      "execution_count": null,
      "outputs": []
    },
    {
      "cell_type": "markdown",
      "metadata": {
        "id": "EAlbLVK2ui-q"
      },
      "source": [
        "### Tarefa 7. Retorne a linha do ano em que houve o maior número de assasinatos. \n",
        "\n",
        "*Dica: use a coluna Murder como referência.*"
      ]
    },
    {
      "cell_type": "code",
      "metadata": {
        "id": "GpIqR-6vui-s"
      },
      "source": [
        "# Seu código"
      ],
      "execution_count": null,
      "outputs": []
    },
    {
      "cell_type": "markdown",
      "metadata": {
        "id": "L7bit-TcEGMm"
      },
      "source": [
        "### Tarefa 8. Retorne o número de assassinatos do ano em que foi registrado o menor número de roubo de carros. \n"
      ]
    },
    {
      "cell_type": "code",
      "metadata": {
        "id": "KAz9sW1oEVeK"
      },
      "source": [
        "# Seu código"
      ],
      "execution_count": null,
      "outputs": []
    },
    {
      "cell_type": "markdown",
      "metadata": {
        "id": "E0RnhuuMEWsw"
      },
      "source": [
        "**Parabéns! Você chegou ao fim**"
      ]
    }
  ]
}